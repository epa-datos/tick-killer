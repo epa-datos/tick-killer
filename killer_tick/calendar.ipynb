{
 "cells": [
  {
   "cell_type": "code",
   "execution_count": null,
   "metadata": {},
   "outputs": [
    {
     "ename": "",
     "evalue": "",
     "output_type": "error",
     "traceback": [
      "\u001b[1;31mFailed to start the Kernel. \n",
      "\u001b[1;31mImportError: The requests library is not installed, please install the requests package to use the requests transport. \n",
      "View Jupyter <a href='command:jupyter.viewOutput'>log</a> for further details."
     ]
    }
   ],
   "source": [
    "import datetime as dt\n",
    "import os.path\n"
   ]
  },
  {
   "cell_type": "code",
   "execution_count": null,
   "metadata": {},
   "outputs": [],
   "source": [
    "class Calendar:\n",
    "    def __init__(self, email):\n",
    "        self.email = email\n",
    "\n",
    "    def get_events(self, start_date, end_date):\n",
    "        \"\"\"Get events between two dates\"\"\"\n",
    "        creds = None\n",
    "        # The file token.json stores the user's access and refresh tokens, and is\n",
    "        # created automatically when the authorization flow completes for the first\n",
    "        # time.\n",
    "        if os.path.exists(os.path.join(creds_dir, 'token.json')):\n",
    "            creds = Credentials.from_authorized_user_file(os.path.join(creds_dir, 'token.json'), SCOPES)\n",
    "        # If there are no (valid) credentials available, let the user log in.\n",
    "        if not creds or not creds.valid:\n",
    "            if creds and creds.expired and creds.refresh_token:\n",
    "                creds.refresh(Request())\n",
    "            else:\n",
    "                flow = InstalledAppFlow.from_client_secrets_file(\n",
    "                    os.path.join(creds_dir, 'credentials.json'), SCOPES)\n",
    "                creds = flow.run_local_server(port=0)\n",
    "            # Save the credentials for the next run\n",
    "            with open(os.path.join(creds_dir, 'token.json'), 'w') as token:\n",
    "                token.write(creds.to_json())\n",
    "\n",
    "        try:\n",
    "            service = build('calendar', 'v3', credentials=creds)\n",
    "\n",
    "            # Call the Calendar API\n",
    "            now = datetime.datetime.utcnow().isoformat() + 'Z'\n",
    "            dt.datetime.strptime(self.start_date, '%Y-%m-%d')\n",
    "            events_result = service.events().list(calendarId=self.email, timeMin=now,\n",
    "                                                maxResults=10, singleEvents=True,\n",
    "                                                orderBy='startTime').execute()\n",
    "            events = events_result.get('items', [])\n",
    "\n",
    "            if not events:\n",
    "                print('No upcoming events found.')\n",
    "                return\n",
    "\n",
    "            # Prints the start and name of the next 10 events\n",
    "            for event in events:\n",
    "                start = event['start'].get('dateTime', event['start'].get('date'))\n",
    "                print(start, event['summary'])\n",
    "\n",
    "        except HttpError as error:\n",
    "            print(f'An error occurred: {error}')"
   ]
  },
  {
   "cell_type": "code",
   "execution_count": null,
   "metadata": {},
   "outputs": [],
   "source": [
    "cal = Calendar"
   ]
  }
 ],
 "metadata": {
  "kernelspec": {
   "display_name": "Python 3.10.4 64-bit",
   "language": "python",
   "name": "python3"
  },
  "language_info": {
   "name": "python",
   "version": "3.10.4"
  },
  "orig_nbformat": 4,
  "vscode": {
   "interpreter": {
    "hash": "949777d72b0d2535278d3dc13498b2535136f6dfe0678499012e853ee9abcab1"
   }
  }
 },
 "nbformat": 4,
 "nbformat_minor": 2
}
