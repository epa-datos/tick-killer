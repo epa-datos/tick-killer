{
 "cells": [
  {
   "cell_type": "code",
   "execution_count": 1,
   "metadata": {},
   "outputs": [],
   "source": [
    "from personal_killer_tick.tick import KillTick\n",
    "import pandas as pd"
   ]
  },
  {
   "cell_type": "code",
   "execution_count": 2,
   "metadata": {},
   "outputs": [],
   "source": [
    "client = KillTick()"
   ]
  },
  {
   "cell_type": "code",
   "execution_count": 3,
   "metadata": {},
   "outputs": [],
   "source": [
    "raw_clients = client.get_clients()"
   ]
  },
  {
   "cell_type": "code",
   "execution_count": 4,
   "metadata": {},
   "outputs": [],
   "source": [
    "raw_projects = client.get_projects()"
   ]
  },
  {
   "cell_type": "code",
   "execution_count": 5,
   "metadata": {},
   "outputs": [],
   "source": [
    "raw_tasks = client.get_tasks()"
   ]
  },
  {
   "cell_type": "code",
   "execution_count": 6,
   "metadata": {},
   "outputs": [],
   "source": [
    "raw_entries = client.get_entries(start_date=\"2022-07-01\", end_date=\"2022-07-10\")"
   ]
  },
  {
   "cell_type": "code",
   "execution_count": 7,
   "metadata": {},
   "outputs": [],
   "source": [
    "# 1. Seleccionar las columnas necesarias\n",
    "# 2. Unir Clientes, proyectos, tareas y entradas por ID\n",
    "# 3. Calcular el total de horas el el periodo\n",
    "\n",
    "clients = (raw_clients\n",
    "           .query('archive == False')\n",
    "           .loc[:, ['id', 'name']])\n",
    "projects = (raw_projects\n",
    "            .loc[:, ['id', 'name', 'client_id']])\n",
    "tasks = (raw_tasks\n",
    "         .loc[:, ['id', 'name', 'project_id']])\n",
    "entries = (raw_entries\n",
    "           .loc[:, ['id', 'date', 'hours', 'notes', 'task_id']])\n"
   ]
  },
  {
   "cell_type": "code",
   "execution_count": 8,
   "metadata": {},
   "outputs": [
    {
     "data": {
      "text/html": [
       "<div>\n",
       "<style scoped>\n",
       "    .dataframe tbody tr th:only-of-type {\n",
       "        vertical-align: middle;\n",
       "    }\n",
       "\n",
       "    .dataframe tbody tr th {\n",
       "        vertical-align: top;\n",
       "    }\n",
       "\n",
       "    .dataframe thead th {\n",
       "        text-align: right;\n",
       "    }\n",
       "</style>\n",
       "<table border=\"1\" class=\"dataframe\">\n",
       "  <thead>\n",
       "    <tr style=\"text-align: right;\">\n",
       "      <th></th>\n",
       "      <th>id_x</th>\n",
       "      <th>date</th>\n",
       "      <th>hours</th>\n",
       "      <th>notes</th>\n",
       "      <th>task_id</th>\n",
       "      <th>id_y</th>\n",
       "      <th>name</th>\n",
       "      <th>project_id</th>\n",
       "    </tr>\n",
       "  </thead>\n",
       "  <tbody>\n",
       "    <tr>\n",
       "      <th>0</th>\n",
       "      <td>105707435</td>\n",
       "      <td>2022-07-08</td>\n",
       "      <td>8.0</td>\n",
       "      <td></td>\n",
       "      <td>16817814</td>\n",
       "      <td>NaN</td>\n",
       "      <td>NaN</td>\n",
       "      <td>NaN</td>\n",
       "    </tr>\n",
       "    <tr>\n",
       "      <th>1</th>\n",
       "      <td>105707433</td>\n",
       "      <td>2022-07-07</td>\n",
       "      <td>8.0</td>\n",
       "      <td></td>\n",
       "      <td>16817814</td>\n",
       "      <td>NaN</td>\n",
       "      <td>NaN</td>\n",
       "      <td>NaN</td>\n",
       "    </tr>\n",
       "    <tr>\n",
       "      <th>2</th>\n",
       "      <td>105707432</td>\n",
       "      <td>2022-07-06</td>\n",
       "      <td>8.0</td>\n",
       "      <td></td>\n",
       "      <td>16817814</td>\n",
       "      <td>NaN</td>\n",
       "      <td>NaN</td>\n",
       "      <td>NaN</td>\n",
       "    </tr>\n",
       "    <tr>\n",
       "      <th>3</th>\n",
       "      <td>105707430</td>\n",
       "      <td>2022-07-05</td>\n",
       "      <td>8.0</td>\n",
       "      <td></td>\n",
       "      <td>16817814</td>\n",
       "      <td>NaN</td>\n",
       "      <td>NaN</td>\n",
       "      <td>NaN</td>\n",
       "    </tr>\n",
       "    <tr>\n",
       "      <th>4</th>\n",
       "      <td>105707427</td>\n",
       "      <td>2022-07-04</td>\n",
       "      <td>8.0</td>\n",
       "      <td></td>\n",
       "      <td>16817814</td>\n",
       "      <td>NaN</td>\n",
       "      <td>NaN</td>\n",
       "      <td>NaN</td>\n",
       "    </tr>\n",
       "    <tr>\n",
       "      <th>5</th>\n",
       "      <td>105180837</td>\n",
       "      <td>2022-07-01</td>\n",
       "      <td>14.0</td>\n",
       "      <td></td>\n",
       "      <td>16817814</td>\n",
       "      <td>NaN</td>\n",
       "      <td>NaN</td>\n",
       "      <td>NaN</td>\n",
       "    </tr>\n",
       "  </tbody>\n",
       "</table>\n",
       "</div>"
      ],
      "text/plain": [
       "        id_x        date  hours notes   task_id  id_y name  project_id\n",
       "0  105707435  2022-07-08    8.0        16817814   NaN  NaN         NaN\n",
       "1  105707433  2022-07-07    8.0        16817814   NaN  NaN         NaN\n",
       "2  105707432  2022-07-06    8.0        16817814   NaN  NaN         NaN\n",
       "3  105707430  2022-07-05    8.0        16817814   NaN  NaN         NaN\n",
       "4  105707427  2022-07-04    8.0        16817814   NaN  NaN         NaN\n",
       "5  105180837  2022-07-01   14.0        16817814   NaN  NaN         NaN"
      ]
     },
     "execution_count": 8,
     "metadata": {},
     "output_type": "execute_result"
    }
   ],
   "source": [
    "entries.merge(tasks, left_on='task_id', right_on='id', how='left')"
   ]
  },
  {
   "cell_type": "code",
   "execution_count": null,
   "metadata": {},
   "outputs": [],
   "source": []
  }
 ],
 "metadata": {
  "kernelspec": {
   "display_name": "Python 3.10.4 64-bit",
   "language": "python",
   "name": "python3"
  },
  "language_info": {
   "codemirror_mode": {
    "name": "ipython",
    "version": 3
   },
   "file_extension": ".py",
   "mimetype": "text/x-python",
   "name": "python",
   "nbconvert_exporter": "python",
   "pygments_lexer": "ipython3",
   "version": "3.10.4"
  },
  "orig_nbformat": 4,
  "vscode": {
   "interpreter": {
    "hash": "949777d72b0d2535278d3dc13498b2535136f6dfe0678499012e853ee9abcab1"
   }
  }
 },
 "nbformat": 4,
 "nbformat_minor": 2
}
